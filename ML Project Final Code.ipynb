{
 "cells": [
  {
   "cell_type": "code",
   "execution_count": null,
   "metadata": {
    "colab": {
     "base_uri": "https://localhost:8080/"
    },
    "executionInfo": {
     "elapsed": 25306,
     "status": "ok",
     "timestamp": 1668588495675,
     "user": {
      "displayName": "Mo",
      "userId": "09803035191739759601"
     },
     "user_tz": -240
    },
    "id": "fU8EE_1ymc46",
    "outputId": "ae825374-71ec-499c-bb8a-f386366e2a62"
   },
   "outputs": [],
   "source": [
    "import numpy as np\n",
    "import matplotlib.pyplot as plt\n",
    "import seaborn as sns\n",
    "import pandas as pd"
   ]
  },
  {
   "cell_type": "code",
   "execution_count": null,
   "metadata": {
    "executionInfo": {
     "elapsed": 1664,
     "status": "ok",
     "timestamp": 1668588497326,
     "user": {
      "displayName": "Mo",
      "userId": "09803035191739759601"
     },
     "user_tz": -240
    },
    "id": "wFlfcYDsmfBN"
   },
   "outputs": [],
   "source": [
    "#Loading the dataset\n",
    "dataset1 = pd.read_csv(\"SolarPrediction.csv\")"
   ]
  },
  {
   "cell_type": "code",
   "execution_count": null,
   "metadata": {
    "executionInfo": {
     "elapsed": 17,
     "status": "ok",
     "timestamp": 1668588497328,
     "user": {
      "displayName": "Mo",
      "userId": "09803035191739759601"
     },
     "user_tz": -240
    },
    "id": "q8kngKwZmxMN"
   },
   "outputs": [],
   "source": [
    "#Processing the data\n",
    "import datetime\n",
    "df= dataset1.copy()\n",
    "df1= df.copy()\n",
    "df1['Data'] = pd.to_datetime(df['Data'], format='%m/%d/%Y %H:%M:%S AM')\n",
    "df1['Data']= df1['Data'].dt.strftime('%m/%d/%Y')\n",
    "df1 = df1.rename(columns={'Data': 'Date'})\n",
    "Daily = df1.groupby(by=\"Date\").mean()\n",
    "Daily.index =pd.to_datetime( Daily.index, format='%m/%d/%Y')\n",
    "Daily1= Daily.Radiation\n",
    "Daily1.index =pd.to_datetime( Daily1.index, format='%m/%d/%Y')\n",
    "Daily2=Daily1.asfreq('d')\n",
    "df_final= Daily2.interpolate();"
   ]
  },
  {
   "cell_type": "code",
   "execution_count": null,
   "metadata": {
    "executionInfo": {
     "elapsed": 14,
     "status": "ok",
     "timestamp": 1668588497329,
     "user": {
      "displayName": "Mo",
      "userId": "09803035191739759601"
     },
     "user_tz": -240
    },
    "id": "i4ANpMKfm4b2"
   },
   "outputs": [],
   "source": [
    "#Visuallising The trends \n",
    "import statsmodels.api as sm \n",
    "result=sm.tsa.seasonal_decompose(df_final, model='multiplicable')\n",
    "plt.rcParams[\"figure.figsize\"] = (10,10)\n",
    "result.plot()"
   ]
  },
  {
   "cell_type": "code",
   "execution_count": null,
   "metadata": {
    "executionInfo": {
     "elapsed": 14,
     "status": "ok",
     "timestamp": 1668588497329,
     "user": {
      "displayName": "Mo",
      "userId": "09803035191739759601"
     },
     "user_tz": -240
    },
    "id": "i4ANpMKfm4b2"
   },
   "outputs": [],
   "source": [
    "#Train-Test Split\n",
    "train_size = int(len(df_final) * 0.67)\n",
    "test_size = len(df_final) - train_size\n",
    "train_arima, test_arima =  df_final.iloc[0:train_size], df_final.iloc[train_size:len(df_final)]"
   ]
  },
  {
   "cell_type": "markdown",
   "metadata": {
    "executionInfo": {
     "elapsed": 650,
     "status": "ok",
     "timestamp": 1668588497966,
     "user": {
      "displayName": "Mo",
      "userId": "09803035191739759601"
     },
     "user_tz": -240
    },
    "id": "LPW3KPDtng5n"
   },
   "source": [
    "# ARIMA"
   ]
  },
  {
   "cell_type": "code",
   "execution_count": null,
   "metadata": {
    "executionInfo": {
     "elapsed": 650,
     "status": "ok",
     "timestamp": 1668588497966,
     "user": {
      "displayName": "Mo",
      "userId": "09803035191739759601"
     },
     "user_tz": -240
    },
    "id": "LPW3KPDtng5n"
   },
   "outputs": [],
   "source": [
    "from statsmodels.tsa.arima.model import ARIMA\n",
    "import pmdarima as pm"
   ]
  },
  {
   "cell_type": "code",
   "execution_count": null,
   "metadata": {
    "colab": {
     "base_uri": "https://localhost:8080/"
    },
    "executionInfo": {
     "elapsed": 980,
     "status": "ok",
     "timestamp": 1668588981665,
     "user": {
      "displayName": "Mo",
      "userId": "09803035191739759601"
     },
     "user_tz": -240
    },
    "id": "VDPyWk3bn6sU",
    "outputId": "5e8c1d10-5c7a-46c4-8dc7-1e8798b5dc50"
   },
   "outputs": [],
   "source": [
    "#auto_arima to decide the best order\n",
    "#model = pm.auto_arima(np.transpose(train_arima))\n",
    "#print(model.summary())"
   ]
  },
  {
   "cell_type": "code",
   "execution_count": null,
   "metadata": {
    "colab": {
     "base_uri": "https://localhost:8080/"
    },
    "executionInfo": {
     "elapsed": 980,
     "status": "ok",
     "timestamp": 1668588981665,
     "user": {
      "displayName": "Mo",
      "userId": "09803035191739759601"
     },
     "user_tz": -240
    },
    "id": "VDPyWk3bn6sU",
    "outputId": "5e8c1d10-5c7a-46c4-8dc7-1e8798b5dc50"
   },
   "outputs": [],
   "source": [
    "model = ARIMA(np.transpose(train_arima), order=(1,0,1))\n",
    "model_fit = model.fit()\n",
    "ARIMA_training_predictions=model_fit.predict()"
   ]
  },
  {
   "cell_type": "code",
   "execution_count": null,
   "metadata": {
    "colab": {
     "base_uri": "https://localhost:8080/",
     "height": 317
    },
    "executionInfo": {
     "elapsed": 636,
     "status": "ok",
     "timestamp": 1668588989804,
     "user": {
      "displayName": "Mo",
      "userId": "09803035191739759601"
     },
     "user_tz": -240
    },
    "id": "srysydLCqCXA",
    "outputId": "1f5d9e4c-3eb4-4e1f-b187-0b4c433507a3"
   },
   "outputs": [],
   "source": [
    "plt.rcParams[\"figure.figsize\"] = (9,6)\n",
    "plt.plot(ARIMA_training_predictions, label=\"Model\")\n",
    "plt.plot(train_arima, label=\"Actual\")\n",
    "plt.title('Training Predictions ARIMA')\n",
    "plt.xlabel('Date')\n",
    "plt.xticks(rotation = 45)\n",
    "plt.ylabel('Radiation')\n",
    "plt.legend(loc='best')\n",
    "plt.show()"
   ]
  },
  {
   "cell_type": "code",
   "execution_count": null,
   "metadata": {
    "executionInfo": {
     "elapsed": 1115,
     "status": "ok",
     "timestamp": 1668588875772,
     "user": {
      "displayName": "Mo",
      "userId": "09803035191739759601"
     },
     "user_tz": -240
    },
    "id": "L8dRp5rgqGOw"
   },
   "outputs": [],
   "source": [
    "def MAPE(Y_actual,Y_Predicted):\n",
    "    mape = np.mean(np.abs((Y_actual - Y_Predicted)/Y_actual))*100\n",
    "    return mape\n",
    "\n",
    "from sklearn.metrics import mean_squared_error\n",
    "\n",
    "#rms = mean_squared_error(y_actual, y_predicted, squared=False)"
   ]
  },
  {
   "cell_type": "code",
   "execution_count": null,
   "metadata": {
    "colab": {
     "base_uri": "https://localhost:8080/"
    },
    "executionInfo": {
     "elapsed": 332,
     "status": "ok",
     "timestamp": 1668588995471,
     "user": {
      "displayName": "Mo",
      "userId": "09803035191739759601"
     },
     "user_tz": -240
    },
    "id": "tDnNCFVlqe-g",
    "outputId": "22007fbc-acc0-4d3c-9110-d70bfc004e42"
   },
   "outputs": [],
   "source": [
    "print(\"The training MAPE for the ARMA model is:\",MAPE(train_arima,ARIMA_training_predictions))\n",
    "print(\"The training RMSE for the ARMA model is:\",mean_squared_error(train_arima,ARIMA_training_predictions, squared=False))"
   ]
  },
  {
   "cell_type": "code",
   "execution_count": null,
   "metadata": {
    "colab": {
     "base_uri": "https://localhost:8080/"
    },
    "executionInfo": {
     "elapsed": 803,
     "status": "ok",
     "timestamp": 1668589004959,
     "user": {
      "displayName": "Mo",
      "userId": "09803035191739759601"
     },
     "user_tz": -240
    },
    "id": "w4Nb2WjYqkqB",
    "outputId": "66c4b6ba-9e01-47e8-fe61-f40cb1871e02"
   },
   "outputs": [],
   "source": [
    "history = [x for x in np.transpose(train_arima)]\n",
    "predictions = list()\n",
    "for t in range(len(np.transpose(test_arima))):\n",
    "    model = ARIMA(history, order=(1,0,1))\n",
    "    model_fit = model.fit()\n",
    "    output = model_fit.forecast()\n",
    "    yhat = output[0]\n",
    "    predictions.append(yhat)\n",
    "    obs = test_arima[t]\n",
    "    history.append(obs)#obs originally\n",
    "    #print('predicted=%f, expected=%f' % (yhat, obs))\n",
    "ARIMA_testing_predictions= pd.DataFrame(predictions,columns = ['Radiation'], index= test_arima.index)"
   ]
  },
  {
   "cell_type": "code",
   "execution_count": null,
   "metadata": {
    "colab": {
     "base_uri": "https://localhost:8080/",
     "height": 295
    },
    "executionInfo": {
     "elapsed": 11,
     "status": "ok",
     "timestamp": 1668589005572,
     "user": {
      "displayName": "Mo",
      "userId": "09803035191739759601"
     },
     "user_tz": -240
    },
    "id": "f4Rc03cLrCKG",
    "outputId": "2f820013-8a56-4c8d-c775-890662a74345"
   },
   "outputs": [],
   "source": [
    "plt.plot(ARIMA_testing_predictions, label=\"Model\")\n",
    "plt.plot(test_arima, label=\"Actual\")\n",
    "plt.title('Testing Predictions ARIMA')\n",
    "plt.xlabel('Date')\n",
    "plt.xticks(rotation = 45)\n",
    "plt.ylabel('Radiation')\n",
    "plt.legend(loc='best')\n",
    "plt.show()"
   ]
  },
  {
   "cell_type": "code",
   "execution_count": null,
   "metadata": {
    "colab": {
     "base_uri": "https://localhost:8080/"
    },
    "executionInfo": {
     "elapsed": 340,
     "status": "ok",
     "timestamp": 1668589012518,
     "user": {
      "displayName": "Mo",
      "userId": "09803035191739759601"
     },
     "user_tz": -240
    },
    "id": "VB4730v6rEAh",
    "outputId": "6829e46e-4909-4fad-e8b5-31b20b254231"
   },
   "outputs": [],
   "source": [
    "print(\"The testing MAPE for the ARMA model is:\",MAPE(test_arima,ARIMA_testing_predictions.Radiation))\n",
    "print(\"The testing RMSE for the ARMA model is:\",mean_squared_error(test_arima,ARIMA_testing_predictions.Radiation, squared=False))"
   ]
  },
  {
   "cell_type": "code",
   "execution_count": null,
   "metadata": {
    "colab": {
     "base_uri": "https://localhost:8080/"
    },
    "executionInfo": {
     "elapsed": 340,
     "status": "ok",
     "timestamp": 1668589012518,
     "user": {
      "displayName": "Mo",
      "userId": "09803035191739759601"
     },
     "user_tz": -240
    },
    "id": "VB4730v6rEAh",
    "outputId": "6829e46e-4909-4fad-e8b5-31b20b254231"
   },
   "outputs": [],
   "source": [
    "#7 day prediction\n",
    "model = ARIMA(np.transpose(train_arima), order=(1,0,1))\n",
    "model_fit = model.fit()\n",
    "ARIMA_7day_predictions=model_fit.forecast(7)\n",
    "ARIMA_7day_predictions"
   ]
  },
  {
   "cell_type": "code",
   "execution_count": null,
   "metadata": {
    "colab": {
     "base_uri": "https://localhost:8080/"
    },
    "executionInfo": {
     "elapsed": 340,
     "status": "ok",
     "timestamp": 1668589012518,
     "user": {
      "displayName": "Mo",
      "userId": "09803035191739759601"
     },
     "user_tz": -240
    },
    "id": "VB4730v6rEAh",
    "outputId": "6829e46e-4909-4fad-e8b5-31b20b254231"
   },
   "outputs": [],
   "source": [
    "plt.plot(ARIMA_7day_predictions, label=\"Model\")\n",
    "plt.plot(test_arima[0:7], label=\"Actual\")\n",
    "plt.title('7 Day predictions ARIMA')\n",
    "plt.xlabel('Date')\n",
    "plt.xticks(rotation = 45)\n",
    "plt.ylabel('Radiation')\n",
    "plt.legend(loc='best')\n",
    "plt.show()"
   ]
  },
  {
   "cell_type": "code",
   "execution_count": null,
   "metadata": {
    "colab": {
     "base_uri": "https://localhost:8080/"
    },
    "executionInfo": {
     "elapsed": 340,
     "status": "ok",
     "timestamp": 1668589012518,
     "user": {
      "displayName": "Mo",
      "userId": "09803035191739759601"
     },
     "user_tz": -240
    },
    "id": "VB4730v6rEAh",
    "outputId": "6829e46e-4909-4fad-e8b5-31b20b254231"
   },
   "outputs": [],
   "source": [
    "print(\"The 7 day testing MAPE for the ARMA model is:\",MAPE(test_arima[0:7],ARIMA_7day_predictions))\n",
    "print(\"The 7 day testing RMSE for the ARMA model is:\",mean_squared_error(test_arima[0:7],ARIMA_7day_predictions, squared=False))"
   ]
  },
  {
   "cell_type": "markdown",
   "metadata": {
    "executionInfo": {
     "elapsed": 25,
     "status": "ok",
     "timestamp": 1668588499950,
     "user": {
      "displayName": "Mo",
      "userId": "09803035191739759601"
     },
     "user_tz": -240
    },
    "id": "Z8TlexLSsxnK"
   },
   "source": [
    "# Exponential Smoothing"
   ]
  },
  {
   "cell_type": "code",
   "execution_count": null,
   "metadata": {
    "executionInfo": {
     "elapsed": 25,
     "status": "ok",
     "timestamp": 1668588499950,
     "user": {
      "displayName": "Mo",
      "userId": "09803035191739759601"
     },
     "user_tz": -240
    },
    "id": "Z8TlexLSsxnK"
   },
   "outputs": [],
   "source": [
    "#exponential smoothing\n",
    "from statsmodels.tsa.holtwinters import SimpleExpSmoothing\n",
    "from statsmodels.tsa.holtwinters import ExponentialSmoothing"
   ]
  },
  {
   "cell_type": "code",
   "execution_count": null,
   "metadata": {
    "colab": {
     "base_uri": "https://localhost:8080/"
    },
    "executionInfo": {
     "elapsed": 19,
     "status": "ok",
     "timestamp": 1668588499951,
     "user": {
      "displayName": "Mo",
      "userId": "09803035191739759601"
     },
     "user_tz": -240
    },
    "id": "QG_Qm29-s-PC",
    "outputId": "3c0f3709-6c1c-43ec-ee89-74186c4b3d34"
   },
   "outputs": [],
   "source": [
    "modelexp = SimpleExpSmoothing(train_arima)"
   ]
  },
  {
   "cell_type": "code",
   "execution_count": null,
   "metadata": {
    "executionInfo": {
     "elapsed": 13,
     "status": "ok",
     "timestamp": 1668588499951,
     "user": {
      "displayName": "Mo",
      "userId": "09803035191739759601"
     },
     "user_tz": -240
    },
    "id": "LeJT63VMtGhS"
   },
   "outputs": [],
   "source": [
    "model_fitexp = modelexp.fit()"
   ]
  },
  {
   "cell_type": "code",
   "execution_count": null,
   "metadata": {
    "executionInfo": {
     "elapsed": 12,
     "status": "ok",
     "timestamp": 1668588499951,
     "user": {
      "displayName": "Mo",
      "userId": "09803035191739759601"
     },
     "user_tz": -240
    },
    "id": "3_p_XSi_tJ1R"
   },
   "outputs": [],
   "source": [
    "EXP_training_predictions=model_fitexp.predict(start=0, end=len(train_arima)-1)"
   ]
  },
  {
   "cell_type": "code",
   "execution_count": null,
   "metadata": {
    "colab": {
     "base_uri": "https://localhost:8080/",
     "height": 317
    },
    "executionInfo": {
     "elapsed": 1018,
     "status": "ok",
     "timestamp": 1668588500957,
     "user": {
      "displayName": "Mo",
      "userId": "09803035191739759601"
     },
     "user_tz": -240
    },
    "id": "z4iElXlUtO8i",
    "outputId": "4e5892cc-bd1d-4d58-f79e-51697c8dcccd"
   },
   "outputs": [],
   "source": [
    "plt.plot(EXP_training_predictions, label=\"Model\")\n",
    "plt.plot(train_arima, label=\"Actual\")\n",
    "plt.title('Training Predictions Exponential Smoothing')\n",
    "plt.xlabel('Date')\n",
    "plt.xticks(rotation = 45)\n",
    "plt.ylabel('Radiation')\n",
    "plt.legend(loc='best')\n",
    "plt.show()"
   ]
  },
  {
   "cell_type": "code",
   "execution_count": null,
   "metadata": {
    "colab": {
     "base_uri": "https://localhost:8080/"
    },
    "executionInfo": {
     "elapsed": 33,
     "status": "ok",
     "timestamp": 1668588500958,
     "user": {
      "displayName": "Mo",
      "userId": "09803035191739759601"
     },
     "user_tz": -240
    },
    "id": "ZbRaPg-0tQOb",
    "outputId": "54ab846e-b26c-4fe9-c751-70371c6c9ab3"
   },
   "outputs": [],
   "source": [
    "print(\"The training MAPE for the Exponential Smoothing model is:\",MAPE(train_arima,EXP_training_predictions))\n",
    "print(\"The training RMSE for the Exponential Smoothing model is:\",mean_squared_error(train_arima,EXP_training_predictions, squared=False))"
   ]
  },
  {
   "cell_type": "code",
   "execution_count": null,
   "metadata": {
    "colab": {
     "base_uri": "https://localhost:8080/"
    },
    "executionInfo": {
     "elapsed": 22,
     "status": "ok",
     "timestamp": 1668588500958,
     "user": {
      "displayName": "Mo",
      "userId": "09803035191739759601"
     },
     "user_tz": -240
    },
    "id": "CHE-0fPPtftL",
    "outputId": "ccc7fff8-b7c5-4e1e-e022-e9b105e850fa"
   },
   "outputs": [],
   "source": [
    "history = [x for x in np.transpose(train_arima)]\n",
    "predictions = list()\n",
    "for t in range(len(np.transpose(test_arima))):\n",
    "    model = SimpleExpSmoothing(history)\n",
    "    model_fit = model.fit()\n",
    "    output = model_fit.forecast()\n",
    "    yhat = output[0]\n",
    "    predictions.append(yhat)\n",
    "    obs = test_arima[t]\n",
    "    history.append(obs)#obs originally\n",
    "    #print('predicted=%f, expected=%f' % (yhat, obs))\n",
    "EXP_testing_predictions= pd.DataFrame(predictions,columns = ['Radiation'], index= test_arima.index)"
   ]
  },
  {
   "cell_type": "code",
   "execution_count": null,
   "metadata": {
    "colab": {
     "base_uri": "https://localhost:8080/",
     "height": 295
    },
    "executionInfo": {
     "elapsed": 971,
     "status": "ok",
     "timestamp": 1668588501913,
     "user": {
      "displayName": "Mo",
      "userId": "09803035191739759601"
     },
     "user_tz": -240
    },
    "id": "8cEnyPu7xC8R",
    "outputId": "d4e2327b-0a78-4251-965b-c91af826121f"
   },
   "outputs": [],
   "source": [
    "plt.plot(EXP_testing_predictions, label=\"Model\")\n",
    "plt.plot(test_arima, label=\"Actual\")\n",
    "plt.title('Testing Predictions Exponential Smoothing')\n",
    "plt.xlabel('Date')\n",
    "plt.xticks(rotation = 45)\n",
    "plt.ylabel('Radiation')\n",
    "plt.legend(loc='best')\n",
    "plt.show()"
   ]
  },
  {
   "cell_type": "code",
   "execution_count": null,
   "metadata": {
    "colab": {
     "base_uri": "https://localhost:8080/"
    },
    "executionInfo": {
     "elapsed": 9,
     "status": "ok",
     "timestamp": 1668588501914,
     "user": {
      "displayName": "Mo",
      "userId": "09803035191739759601"
     },
     "user_tz": -240
    },
    "id": "6pxVKLDNxKIi",
    "outputId": "27f52995-0cd7-4ec4-c51e-75706363687a"
   },
   "outputs": [],
   "source": [
    "print(\"The testing MAPE for the Exponential Smoothing model is:\",MAPE(test_arima,EXP_testing_predictions.Radiation))\n",
    "print(\"The testing RMSE for the Exponential Smoothing model is:\",mean_squared_error(test_arima,EXP_testing_predictions.Radiation, squared=False))"
   ]
  },
  {
   "cell_type": "code",
   "execution_count": null,
   "metadata": {
    "colab": {
     "base_uri": "https://localhost:8080/"
    },
    "executionInfo": {
     "elapsed": 9,
     "status": "ok",
     "timestamp": 1668588501914,
     "user": {
      "displayName": "Mo",
      "userId": "09803035191739759601"
     },
     "user_tz": -240
    },
    "id": "6pxVKLDNxKIi",
    "outputId": "27f52995-0cd7-4ec4-c51e-75706363687a"
   },
   "outputs": [],
   "source": [
    "#7day prediction\n",
    "model = SimpleExpSmoothing(train_arima)\n",
    "model_fit = model.fit()\n",
    "EXP_7day_predictions=model_fit.forecast(len(test_arima))\n",
    "EXP_7day_predictions"
   ]
  },
  {
   "cell_type": "code",
   "execution_count": null,
   "metadata": {
    "colab": {
     "base_uri": "https://localhost:8080/"
    },
    "executionInfo": {
     "elapsed": 9,
     "status": "ok",
     "timestamp": 1668588501914,
     "user": {
      "displayName": "Mo",
      "userId": "09803035191739759601"
     },
     "user_tz": -240
    },
    "id": "6pxVKLDNxKIi",
    "outputId": "27f52995-0cd7-4ec4-c51e-75706363687a"
   },
   "outputs": [],
   "source": [
    "plt.plot(EXP_7day_predictions[0:7], label=\"Model\")\n",
    "plt.plot(test_arima[0:7], label=\"Actual\")\n",
    "plt.title('7 Day Predictions Exponential Smoothing')\n",
    "plt.xlabel('Date')\n",
    "plt.xticks(rotation = 45)\n",
    "plt.ylabel('Radiation')\n",
    "plt.legend(loc='best')\n",
    "plt.show()"
   ]
  },
  {
   "cell_type": "code",
   "execution_count": null,
   "metadata": {
    "colab": {
     "base_uri": "https://localhost:8080/"
    },
    "executionInfo": {
     "elapsed": 9,
     "status": "ok",
     "timestamp": 1668588501914,
     "user": {
      "displayName": "Mo",
      "userId": "09803035191739759601"
     },
     "user_tz": -240
    },
    "id": "6pxVKLDNxKIi",
    "outputId": "27f52995-0cd7-4ec4-c51e-75706363687a"
   },
   "outputs": [],
   "source": [
    "print(\"The 7 day testing MAPE for the EXP model is:\",MAPE(test_arima[0:7],EXP_7day_predictions[0:7]))\n",
    "print(\"The 7 day testing RMSE for the EXP model is:\",mean_squared_error(test_arima[0:7],EXP_7day_predictions[0:7], squared=False))"
   ]
  },
  {
   "cell_type": "code",
   "execution_count": null,
   "metadata": {
    "colab": {
     "base_uri": "https://localhost:8080/"
    },
    "executionInfo": {
     "elapsed": 9,
     "status": "ok",
     "timestamp": 1668588501914,
     "user": {
      "displayName": "Mo",
      "userId": "09803035191739759601"
     },
     "user_tz": -240
    },
    "id": "6pxVKLDNxKIi",
    "outputId": "27f52995-0cd7-4ec4-c51e-75706363687a"
   },
   "outputs": [],
   "source": [
    "plt.plot(EXP_7day_predictions, label=\"Model\")\n",
    "plt.plot(test_arima, label=\"Actual\")\n",
    "plt.title('Testing Predictions Exponential Smoothing with no ground truth')\n",
    "plt.xlabel('Date')\n",
    "plt.xticks(rotation = 45)\n",
    "plt.ylabel('Radiation')\n",
    "plt.legend(loc='best')\n",
    "plt.show()"
   ]
  },
  {
   "cell_type": "code",
   "execution_count": null,
   "metadata": {
    "colab": {
     "base_uri": "https://localhost:8080/"
    },
    "executionInfo": {
     "elapsed": 9,
     "status": "ok",
     "timestamp": 1668588501914,
     "user": {
      "displayName": "Mo",
      "userId": "09803035191739759601"
     },
     "user_tz": -240
    },
    "id": "6pxVKLDNxKIi",
    "outputId": "27f52995-0cd7-4ec4-c51e-75706363687a"
   },
   "outputs": [],
   "source": [
    "print(\"The testing MAPE with no ground truth for the EXP model is:\",MAPE(test_arima,EXP_7day_predictions))\n",
    "print(\"The testing RMSE with no ground truth for the EXP model is:\",mean_squared_error(test_arima,EXP_7day_predictions, squared=False))"
   ]
  },
  {
   "cell_type": "markdown",
   "metadata": {
    "executionInfo": {
     "elapsed": 4637,
     "status": "ok",
     "timestamp": 1668588506546,
     "user": {
      "displayName": "Mo",
      "userId": "09803035191739759601"
     },
     "user_tz": -240
    },
    "id": "8d-NMk0uxQqU"
   },
   "source": [
    "# LSTM"
   ]
  },
  {
   "cell_type": "code",
   "execution_count": null,
   "metadata": {
    "executionInfo": {
     "elapsed": 4637,
     "status": "ok",
     "timestamp": 1668588506546,
     "user": {
      "displayName": "Mo",
      "userId": "09803035191739759601"
     },
     "user_tz": -240
    },
    "id": "8d-NMk0uxQqU"
   },
   "outputs": [],
   "source": [
    "##LSTM\n",
    "import numpy as np\n",
    "import matplotlib.pyplot as plt\n",
    "from pandas import read_csv\n",
    "import math\n",
    "import tensorflow as tf\n",
    "from tensorflow.keras.models import Sequential\n",
    "from tensorflow.keras.layers import Dense\n",
    "from tensorflow.keras.layers import LSTM\n",
    "from sklearn.preprocessing import MinMaxScaler\n",
    "from sklearn.metrics import mean_squared_error"
   ]
  },
  {
   "cell_type": "code",
   "execution_count": null,
   "metadata": {
    "executionInfo": {
     "elapsed": 4,
     "status": "ok",
     "timestamp": 1668588506547,
     "user": {
      "displayName": "Mo",
      "userId": "09803035191739759601"
     },
     "user_tz": -240
    },
    "id": "qKCl5Z4ZxfBj"
   },
   "outputs": [],
   "source": [
    "# convert an array of values into a dataset matrix\n",
    "def create_dataset(dataset, look_back=1):\n",
    "\tdataX, dataY = [], []\n",
    "\tfor i in range(len(dataset)-look_back-1):\n",
    "\t\ta = dataset[i:(i+look_back), 0]\n",
    "\t\tdataX.append(a)\n",
    "\t\tdataY.append(dataset[i + look_back, 0])\n",
    "\treturn np.array(dataX), np.array(dataY)\n",
    " "
   ]
  },
  {
   "cell_type": "code",
   "execution_count": null,
   "metadata": {
    "executionInfo": {
     "elapsed": 3,
     "status": "ok",
     "timestamp": 1668588506547,
     "user": {
      "displayName": "Mo",
      "userId": "09803035191739759601"
     },
     "user_tz": -240
    },
    "id": "FTWhtcszxhEQ"
   },
   "outputs": [],
   "source": [
    "# fix random seed for reproducibility\n",
    "tf.random.set_seed(7)\n",
    "# load the dataset\n",
    "dataset = df_final.values\n",
    "dataset = np.array(df_final.astype('float32'))\n",
    "# normalize the dataset\n",
    "scaler = MinMaxScaler(feature_range=(0, 1))\n",
    "dataset = scaler.fit_transform(dataset.reshape(-1, 1))\n",
    "# split into train and test sets\n",
    "train_size = int(len(dataset) * 0.67)\n",
    "test_size = len(dataset) - train_size\n",
    "train, test = dataset[0:train_size,:], dataset[train_size:len(dataset),:]\n",
    "# reshape into X=t and Y=t+1\n",
    "look_back = 1\n",
    "trainX, trainY = create_dataset(train, look_back)\n",
    "testX, testY = create_dataset(test, look_back)\n",
    "# reshape input to be [samples, time steps, features]\n",
    "trainX = np.reshape(trainX, (trainX.shape[0], 1, trainX.shape[1]))\n",
    "testX = np.reshape(testX, (testX.shape[0], 1, testX.shape[1]))\n"
   ]
  },
  {
   "cell_type": "code",
   "execution_count": null,
   "metadata": {
    "colab": {
     "base_uri": "https://localhost:8080/"
    },
    "executionInfo": {
     "elapsed": 44979,
     "status": "ok",
     "timestamp": 1668588551523,
     "user": {
      "displayName": "Mo",
      "userId": "09803035191739759601"
     },
     "user_tz": -240
    },
    "id": "fpNsEShSxmiV",
    "outputId": "40440bee-694e-4cef-b488-a3f238c553f7"
   },
   "outputs": [],
   "source": [
    "# create and fit the LSTM network\n",
    "model = Sequential()\n",
    "model.add(LSTM(4, input_shape=(1, look_back)))\n",
    "model.add(Dense(1))\n",
    "model.compile(loss='mean_squared_error', optimizer='adam')\n",
    "model.fit(trainX, trainY, epochs=100, batch_size=1, verbose=2)\n",
    "# make predictions\n",
    "trainPredict = model.predict(trainX)\n",
    "testPredict = model.predict(testX)\n",
    "# invert predictions\n",
    "trainPredict = scaler.inverse_transform(trainPredict)\n",
    "trainY = scaler.inverse_transform([trainY])\n",
    "testPredict = scaler.inverse_transform(testPredict)\n",
    "testY = scaler.inverse_transform([testY])"
   ]
  },
  {
   "cell_type": "code",
   "execution_count": null,
   "metadata": {
    "colab": {
     "base_uri": "https://localhost:8080/"
    },
    "executionInfo": {
     "elapsed": 41,
     "status": "ok",
     "timestamp": 1668588551524,
     "user": {
      "displayName": "Mo",
      "userId": "09803035191739759601"
     },
     "user_tz": -240
    },
    "id": "oBavETi7xoyR",
    "outputId": "b0599aa7-30c7-4041-e5ad-5bbbf4e960a7"
   },
   "outputs": [],
   "source": [
    "# calculate root mean squared error\n",
    "# training and testing\n",
    "trainScore = np.sqrt(mean_squared_error(trainY[0], trainPredict[:,0]))\n",
    "print('Train Score: %.2f RMSE' % (trainScore))\n",
    "testScore = np.sqrt(mean_squared_error(testY[0], testPredict[:,0]))\n",
    "print('Test Score: %.2f RMSE' % (testScore))\n"
   ]
  },
  {
   "cell_type": "code",
   "execution_count": null,
   "metadata": {
    "colab": {
     "base_uri": "https://localhost:8080/"
    },
    "executionInfo": {
     "elapsed": 10,
     "status": "ok",
     "timestamp": 1668588570173,
     "user": {
      "displayName": "Mo",
      "userId": "09803035191739759601"
     },
     "user_tz": -240
    },
    "id": "yAhGgcbuyiZu",
    "outputId": "b92e0f4d-e22c-4338-be3b-0de98131963f"
   },
   "outputs": [],
   "source": [
    "#MAPE training and testing\n",
    "print('Training Score: MAPE', MAPE(trainY[0], trainPredict[:,0]))\n",
    "print('Testing Score: MAPE', MAPE(testY[0], testPredict[:,0]))"
   ]
  },
  {
   "cell_type": "code",
   "execution_count": null,
   "metadata": {
    "colab": {
     "base_uri": "https://localhost:8080/"
    },
    "executionInfo": {
     "elapsed": 3999,
     "status": "ok",
     "timestamp": 1668588576564,
     "user": {
      "displayName": "Mo",
      "userId": "09803035191739759601"
     },
     "user_tz": -240
    },
    "id": "ZkqTn9aIyum2",
    "outputId": "aa633e84-01d3-464f-cf6a-2127f5e9eaba"
   },
   "outputs": [],
   "source": [
    "#7Days no ground truth testing\n",
    "pre=testX[0]\n",
    "youtpred=np.zeros(len(testX))\n",
    "for i in range(len(testX)):\n",
    "  outpred=model.predict([pre])\n",
    "  youtpred[i]=outpred\n",
    "  pre=outpred\n",
    "LSTM_out_pred=scaler.inverse_transform(youtpred.reshape(-1, 1))"
   ]
  },
  {
   "cell_type": "code",
   "execution_count": null,
   "metadata": {
    "colab": {
     "base_uri": "https://localhost:8080/"
    },
    "executionInfo": {
     "elapsed": 331,
     "status": "ok",
     "timestamp": 1668588587155,
     "user": {
      "displayName": "Mo",
      "userId": "09803035191739759601"
     },
     "user_tz": -240
    },
    "id": "h0YHnDbVzk0z",
    "outputId": "1db5920f-8a54-42d5-f50b-1274c1491e90"
   },
   "outputs": [],
   "source": [
    "# 7 days MAPE and RMSE\n",
    "print('Testing Score: MAPE', MAPE(testY[0][0:7], LSTM_out_pred[0:7]))\n",
    "test7Score = np.sqrt(mean_squared_error(testY[0][0:7], LSTM_out_pred[0:7]))\n",
    "print('Test 7day Score: %.2f RMSE' % (test7Score))"
   ]
  },
  {
   "cell_type": "code",
   "execution_count": null,
   "metadata": {
    "colab": {
     "base_uri": "https://localhost:8080/",
     "height": 282
    },
    "executionInfo": {
     "elapsed": 525,
     "status": "ok",
     "timestamp": 1668588589721,
     "user": {
      "displayName": "Mo",
      "userId": "09803035191739759601"
     },
     "user_tz": -240
    },
    "id": "eGSiVyzHzs7h",
    "outputId": "faeea257-754c-4b66-dc22-7e34a49ed582"
   },
   "outputs": [],
   "source": [
    "plt.plot(train_arima[1:-1].index, trainPredict[:,0], label=\"Model\")\n",
    "plt.plot(train_arima[1:-1].index,trainY[0], label=\"Actual\")\n",
    "plt.title('Training Predictions LSTM')\n",
    "plt.xticks(rotation = 45)\n",
    "plt.xlabel('Date')\n",
    "plt.ylabel('Radiation')\n",
    "plt.legend(loc='best')\n",
    "plt.show()"
   ]
  },
  {
   "cell_type": "code",
   "execution_count": null,
   "metadata": {
    "colab": {
     "base_uri": "https://localhost:8080/",
     "height": 282
    },
    "executionInfo": {
     "elapsed": 525,
     "status": "ok",
     "timestamp": 1668588589721,
     "user": {
      "displayName": "Mo",
      "userId": "09803035191739759601"
     },
     "user_tz": -240
    },
    "id": "eGSiVyzHzs7h",
    "outputId": "faeea257-754c-4b66-dc22-7e34a49ed582"
   },
   "outputs": [],
   "source": [
    "plt.plot(test_arima[1:-1].index, testPredict[:,0], label=\"Model\")\n",
    "plt.plot(test_arima[1:-1].index,testY[0], label=\"Actual\")\n",
    "plt.title('Testing Predictions LSTM')\n",
    "plt.xticks(rotation = 45)\n",
    "plt.xlabel('Date')\n",
    "plt.ylabel('Radiation')\n",
    "plt.legend(loc='best')\n",
    "plt.show()"
   ]
  },
  {
   "cell_type": "code",
   "execution_count": null,
   "metadata": {
    "colab": {
     "base_uri": "https://localhost:8080/",
     "height": 282
    },
    "executionInfo": {
     "elapsed": 525,
     "status": "ok",
     "timestamp": 1668588589721,
     "user": {
      "displayName": "Mo",
      "userId": "09803035191739759601"
     },
     "user_tz": -240
    },
    "id": "eGSiVyzHzs7h",
    "outputId": "faeea257-754c-4b66-dc22-7e34a49ed582"
   },
   "outputs": [],
   "source": [
    "day7lstm=LSTM_out_pred[0:7]\n",
    "\n",
    "plt.plot(test_arima[0:7].index, day7lstm, label=\"forecast\")\n",
    "plt.plot(test_arima[0:7], label=\"Actual\")\n",
    "plt.title('7 Day Predictions LSTM')\n",
    "plt.xticks(rotation = 45)\n",
    "plt.xlabel('Date')\n",
    "plt.ylabel('Radiation')\n",
    "plt.legend(loc='best')\n",
    "plt.show()"
   ]
  },
  {
   "cell_type": "markdown",
   "metadata": {
    "executionInfo": {
     "elapsed": 2762,
     "status": "ok",
     "timestamp": 1668588598727,
     "user": {
      "displayName": "Mo",
      "userId": "09803035191739759601"
     },
     "user_tz": -240
    },
    "id": "AYxC5bkIz4_E"
   },
   "source": [
    "# NeuralProphet"
   ]
  },
  {
   "cell_type": "code",
   "execution_count": null,
   "metadata": {
    "executionInfo": {
     "elapsed": 2762,
     "status": "ok",
     "timestamp": 1668588598727,
     "user": {
      "displayName": "Mo",
      "userId": "09803035191739759601"
     },
     "user_tz": -240
    },
    "id": "AYxC5bkIz4_E"
   },
   "outputs": [],
   "source": [
    "##pip install neuralprophet\n",
    "from neuralprophet import NeuralProphet"
   ]
  },
  {
   "cell_type": "code",
   "execution_count": null,
   "metadata": {
    "executionInfo": {
     "elapsed": 3,
     "status": "ok",
     "timestamp": 1668588600757,
     "user": {
      "displayName": "Mo",
      "userId": "09803035191739759601"
     },
     "user_tz": -240
    },
    "id": "6mkq-keu1KAq"
   },
   "outputs": [],
   "source": [
    "nuo=pd.DataFrame(train_arima)\n",
    "nuo[\"ds\"]= nuo.index\n",
    "nuo['ds'] = pd.DatetimeIndex(nuo['ds'])\n",
    "nuo = nuo.rename(columns={'Radiation': 'y'})\n",
    "\n",
    "nuo_test=pd.DataFrame(test_arima)\n",
    "nuo_test[\"ds\"]= nuo_test.index\n",
    "nuo_test['ds'] = pd.DatetimeIndex(nuo_test['ds'])\n",
    "nuo_test = nuo_test.rename(columns={'Radiation': 'y'})"
   ]
  },
  {
   "cell_type": "code",
   "execution_count": null,
   "metadata": {
    "colab": {
     "base_uri": "https://localhost:8080/",
     "height": 570,
     "referenced_widgets": [
      "82717368f5d3470c853b58ee773b1d91",
      "5f79fc722bce4cec8837cb203a4ee305",
      "999a431a8e554ad59a9011f986bfbb0a",
      "ecc6cb2e9a5b46b8b39ea02b7fe688c0",
      "f8ab7080473e43678084d9eb632885e6",
      "163fbfae66d94df4ad7a2de568c4cde0",
      "6e14d8d830d044779fa28087f806d57d",
      "949c43e4116c442fb4dacad7e4f02b0f",
      "6c1f7a79fab043dabde9ab405d0fde79",
      "bdfa3eaf0ff146c8a8ca3b915efb5ee4",
      "c106cd8d061942509bfbddf6b83e8266",
      "1252225265794dc1b80c496164f95762",
      "269ba71afc0c4295a1ac41e4acad87bd",
      "4a818142fbe244899307df4262cc9078",
      "ebd6845e0ea446e39872ff63aa379c04",
      "77863df5a5744c208627b7c9559adfc2",
      "455e9fa390614af1b5a44880c65850c1",
      "8228c3fa1e30484bacfd6f0089398dbd",
      "710951fc4edc4ce9af69f61eb1d11052",
      "a419c192f0d1411992e367d0bd195266",
      "89ad9cff22464465b55bb65b4a099a93",
      "36c4b6e648fc4270988d6b0359db5e6f"
     ]
    },
    "executionInfo": {
     "elapsed": 18951,
     "status": "ok",
     "timestamp": 1668588621655,
     "user": {
      "displayName": "Mo",
      "userId": "09803035191739759601"
     },
     "user_tz": -240
    },
    "id": "wCRdMYYQ177c",
    "outputId": "b1394f25-7905-4dec-fffa-057db1ecea2c"
   },
   "outputs": [],
   "source": [
    "m = NeuralProphet(weekly_seasonality=True)\n",
    "metrics = m.fit(nuo, freq='D', validation_df=nuo_test)\n"
   ]
  },
  {
   "cell_type": "code",
   "execution_count": null,
   "metadata": {
    "colab": {
     "base_uri": "https://localhost:8080/"
    },
    "executionInfo": {
     "elapsed": 327,
     "status": "ok",
     "timestamp": 1668588630121,
     "user": {
      "displayName": "Mo",
      "userId": "09803035191739759601"
     },
     "user_tz": -240
    },
    "id": "pjp2EYnl1pOR",
    "outputId": "7e352cdd-5810-4735-ce4a-12794caaddb8"
   },
   "outputs": [],
   "source": [
    "future = m.make_future_dataframe(nuo_test, periods=0, n_historic_predictions=len(nuo))\n",
    "forecast = m.predict(future)"
   ]
  },
  {
   "cell_type": "code",
   "execution_count": null,
   "metadata": {
    "colab": {
     "base_uri": "https://localhost:8080/",
     "height": 265
    },
    "executionInfo": {
     "elapsed": 854,
     "status": "ok",
     "timestamp": 1668588652281,
     "user": {
      "displayName": "Mo",
      "userId": "09803035191739759601"
     },
     "user_tz": -240
    },
    "id": "yJCy-dbt3KYS",
    "outputId": "b9964a8d-8d06-4a06-8c20-ea25e9fb961e"
   },
   "outputs": [],
   "source": [
    "#7 Day testing\n",
    "plt.plot(test_arima[0:7].index,forecast[\"yhat1\"][0:7], label=\"Model\")\n",
    "plt.plot(test_arima[0:7], label=\"Actual\")\n",
    "plt.title('7 Day Predictions Neural Prophet')\n",
    "plt.xlabel('Date')\n",
    "plt.xticks(rotation = 45)\n",
    "plt.ylabel('Radiation')\n",
    "plt.legend(loc='best')\n",
    "plt.show()"
   ]
  },
  {
   "cell_type": "code",
   "execution_count": null,
   "metadata": {
    "colab": {
     "base_uri": "https://localhost:8080/"
    },
    "executionInfo": {
     "elapsed": 438,
     "status": "ok",
     "timestamp": 1668588657301,
     "user": {
      "displayName": "Mo",
      "userId": "09803035191739759601"
     },
     "user_tz": -240
    },
    "id": "SAskXNx34axq",
    "outputId": "ea6c77d6-fa1d-44c2-ef07-508b02b879ba"
   },
   "outputs": [],
   "source": [
    "print('Testing neural prophet Score: MAPE', MAPE(forecast[\"y\"][0:7], forecast[\"yhat1\"][0:7]))\n",
    "print(\"Testing neural prophet Score: RMSE\",mean_squared_error(forecast[\"y\"][0:7], forecast[\"yhat1\"][0:7], squared=False))"
   ]
  },
  {
   "cell_type": "code",
   "execution_count": null,
   "metadata": {
    "colab": {
     "base_uri": "https://localhost:8080/"
    },
    "executionInfo": {
     "elapsed": 438,
     "status": "ok",
     "timestamp": 1668588657301,
     "user": {
      "displayName": "Mo",
      "userId": "09803035191739759601"
     },
     "user_tz": -240
    },
    "id": "SAskXNx34axq",
    "outputId": "ea6c77d6-fa1d-44c2-ef07-508b02b879ba"
   },
   "outputs": [],
   "source": [
    "# Full testing with no ground truth\n",
    "print('Testing neural prophet Score: MAPE', MAPE(forecast[\"y\"], forecast[\"yhat1\"]))\n",
    "print(\"Testing neural prophet Score: RMSE\",mean_squared_error(forecast[\"y\"], forecast[\"yhat1\"], squared=False))"
   ]
  },
  {
   "cell_type": "code",
   "execution_count": null,
   "metadata": {
    "colab": {
     "base_uri": "https://localhost:8080/"
    },
    "executionInfo": {
     "elapsed": 438,
     "status": "ok",
     "timestamp": 1668588657301,
     "user": {
      "displayName": "Mo",
      "userId": "09803035191739759601"
     },
     "user_tz": -240
    },
    "id": "SAskXNx34axq",
    "outputId": "ea6c77d6-fa1d-44c2-ef07-508b02b879ba"
   },
   "outputs": [],
   "source": [
    "plt.plot(test_arima.index,forecast[\"yhat1\"], label=\"Model\")\n",
    "plt.plot(test_arima, label=\"Actual\")\n",
    "plt.title('Testing Predictions Neural Prophet with no ground truth')\n",
    "plt.xlabel('Date')\n",
    "plt.xticks(rotation = 45)\n",
    "plt.ylabel('Radiation')\n",
    "plt.legend(loc='best')\n",
    "plt.show()"
   ]
  },
  {
   "cell_type": "code",
   "execution_count": null,
   "metadata": {
    "colab": {
     "base_uri": "https://localhost:8080/"
    },
    "executionInfo": {
     "elapsed": 411,
     "status": "ok",
     "timestamp": 1668588661907,
     "user": {
      "displayName": "Mo",
      "userId": "09803035191739759601"
     },
     "user_tz": -240
    },
    "id": "SwyF3hHB6O0b",
    "outputId": "ba07b190-bdaf-4528-ce1b-243d1c462f7a"
   },
   "outputs": [],
   "source": [
    "#Predicting the training set\n",
    "future2 = m.make_future_dataframe(nuo, periods=0, n_historic_predictions=len(nuo))\n",
    "forecast2 = m.predict(future2)"
   ]
  },
  {
   "cell_type": "code",
   "execution_count": null,
   "metadata": {
    "colab": {
     "base_uri": "https://localhost:8080/",
     "height": 269
    },
    "executionInfo": {
     "elapsed": 819,
     "status": "ok",
     "timestamp": 1668588667985,
     "user": {
      "displayName": "Mo",
      "userId": "09803035191739759601"
     },
     "user_tz": -240
    },
    "id": "vqBrahge6BVY",
    "outputId": "78b5d296-c96a-40a4-8ad8-45123579b575"
   },
   "outputs": [],
   "source": [
    "#Training Prediction plots\n",
    "plt.plot(train_arima.index,forecast2[\"yhat1\"], label=\"Model\")\n",
    "plt.plot(train_arima, label=\"Actual\")\n",
    "plt.title('Training Predictions Neural Prophet')\n",
    "plt.xlabel('Date')\n",
    "plt.xticks(rotation = 45)\n",
    "plt.ylabel('Radiation')\n",
    "plt.legend(loc='best')\n",
    "plt.show()"
   ]
  },
  {
   "cell_type": "code",
   "execution_count": null,
   "metadata": {
    "colab": {
     "base_uri": "https://localhost:8080/"
    },
    "executionInfo": {
     "elapsed": 530,
     "status": "ok",
     "timestamp": 1668588670840,
     "user": {
      "displayName": "Mo",
      "userId": "09803035191739759601"
     },
     "user_tz": -240
    },
    "id": "TDWxYQUT6Cud",
    "outputId": "b6b1ed90-eeb0-496a-8100-9effeacdb887"
   },
   "outputs": [],
   "source": [
    "print('Training neural prophet Score: MAPE', MAPE(forecast2[\"y\"], forecast2[\"yhat1\"]))\n",
    "print(\"Training neural prophet Score: RMSE:\",mean_squared_error(forecast2[\"y\"], forecast2[\"yhat1\"], squared=False))"
   ]
  },
  {
   "cell_type": "code",
   "execution_count": null,
   "metadata": {},
   "outputs": [],
   "source": []
  }
 ],
 "metadata": {
  "colab": {
   "authorship_tag": "ABX9TyN5/cdOJhbhikMqI76PZhk7",
   "provenance": []
  },
  "kernelspec": {
   "display_name": "Python 3",
   "language": "python",
   "name": "python3"
  },
  "language_info": {
   "codemirror_mode": {
    "name": "ipython",
    "version": 3
   },
   "file_extension": ".py",
   "mimetype": "text/x-python",
   "name": "python",
   "nbconvert_exporter": "python",
   "pygments_lexer": "ipython3",
   "version": "3.8.8"
  },
  "widgets": {
   "application/vnd.jupyter.widget-state+json": {
    "1252225265794dc1b80c496164f95762": {
     "model_module": "@jupyter-widgets/controls",
     "model_module_version": "1.5.0",
     "model_name": "HBoxModel",
     "state": {
      "_dom_classes": [],
      "_model_module": "@jupyter-widgets/controls",
      "_model_module_version": "1.5.0",
      "_model_name": "HBoxModel",
      "_view_count": null,
      "_view_module": "@jupyter-widgets/controls",
      "_view_module_version": "1.5.0",
      "_view_name": "HBoxView",
      "box_style": "",
      "children": [
       "IPY_MODEL_269ba71afc0c4295a1ac41e4acad87bd",
       "IPY_MODEL_4a818142fbe244899307df4262cc9078",
       "IPY_MODEL_ebd6845e0ea446e39872ff63aa379c04"
      ],
      "layout": "IPY_MODEL_77863df5a5744c208627b7c9559adfc2"
     }
    },
    "163fbfae66d94df4ad7a2de568c4cde0": {
     "model_module": "@jupyter-widgets/base",
     "model_module_version": "1.2.0",
     "model_name": "LayoutModel",
     "state": {
      "_model_module": "@jupyter-widgets/base",
      "_model_module_version": "1.2.0",
      "_model_name": "LayoutModel",
      "_view_count": null,
      "_view_module": "@jupyter-widgets/base",
      "_view_module_version": "1.2.0",
      "_view_name": "LayoutView",
      "align_content": null,
      "align_items": null,
      "align_self": null,
      "border": null,
      "bottom": null,
      "display": null,
      "flex": null,
      "flex_flow": null,
      "grid_area": null,
      "grid_auto_columns": null,
      "grid_auto_flow": null,
      "grid_auto_rows": null,
      "grid_column": null,
      "grid_gap": null,
      "grid_row": null,
      "grid_template_areas": null,
      "grid_template_columns": null,
      "grid_template_rows": null,
      "height": null,
      "justify_content": null,
      "justify_items": null,
      "left": null,
      "margin": null,
      "max_height": null,
      "max_width": null,
      "min_height": null,
      "min_width": null,
      "object_fit": null,
      "object_position": null,
      "order": null,
      "overflow": null,
      "overflow_x": null,
      "overflow_y": null,
      "padding": null,
      "right": null,
      "top": null,
      "visibility": null,
      "width": null
     }
    },
    "269ba71afc0c4295a1ac41e4acad87bd": {
     "model_module": "@jupyter-widgets/controls",
     "model_module_version": "1.5.0",
     "model_name": "HTMLModel",
     "state": {
      "_dom_classes": [],
      "_model_module": "@jupyter-widgets/controls",
      "_model_module_version": "1.5.0",
      "_model_name": "HTMLModel",
      "_view_count": null,
      "_view_module": "@jupyter-widgets/controls",
      "_view_module_version": "1.5.0",
      "_view_name": "HTMLView",
      "description": "",
      "description_tooltip": null,
      "layout": "IPY_MODEL_455e9fa390614af1b5a44880c65850c1",
      "placeholder": "​",
      "style": "IPY_MODEL_8228c3fa1e30484bacfd6f0089398dbd",
      "value": "100%"
     }
    },
    "36c4b6e648fc4270988d6b0359db5e6f": {
     "model_module": "@jupyter-widgets/controls",
     "model_module_version": "1.5.0",
     "model_name": "DescriptionStyleModel",
     "state": {
      "_model_module": "@jupyter-widgets/controls",
      "_model_module_version": "1.5.0",
      "_model_name": "DescriptionStyleModel",
      "_view_count": null,
      "_view_module": "@jupyter-widgets/base",
      "_view_module_version": "1.2.0",
      "_view_name": "StyleView",
      "description_width": ""
     }
    },
    "455e9fa390614af1b5a44880c65850c1": {
     "model_module": "@jupyter-widgets/base",
     "model_module_version": "1.2.0",
     "model_name": "LayoutModel",
     "state": {
      "_model_module": "@jupyter-widgets/base",
      "_model_module_version": "1.2.0",
      "_model_name": "LayoutModel",
      "_view_count": null,
      "_view_module": "@jupyter-widgets/base",
      "_view_module_version": "1.2.0",
      "_view_name": "LayoutView",
      "align_content": null,
      "align_items": null,
      "align_self": null,
      "border": null,
      "bottom": null,
      "display": null,
      "flex": null,
      "flex_flow": null,
      "grid_area": null,
      "grid_auto_columns": null,
      "grid_auto_flow": null,
      "grid_auto_rows": null,
      "grid_column": null,
      "grid_gap": null,
      "grid_row": null,
      "grid_template_areas": null,
      "grid_template_columns": null,
      "grid_template_rows": null,
      "height": null,
      "justify_content": null,
      "justify_items": null,
      "left": null,
      "margin": null,
      "max_height": null,
      "max_width": null,
      "min_height": null,
      "min_width": null,
      "object_fit": null,
      "object_position": null,
      "order": null,
      "overflow": null,
      "overflow_x": null,
      "overflow_y": null,
      "padding": null,
      "right": null,
      "top": null,
      "visibility": null,
      "width": null
     }
    },
    "4a818142fbe244899307df4262cc9078": {
     "model_module": "@jupyter-widgets/controls",
     "model_module_version": "1.5.0",
     "model_name": "FloatProgressModel",
     "state": {
      "_dom_classes": [],
      "_model_module": "@jupyter-widgets/controls",
      "_model_module_version": "1.5.0",
      "_model_name": "FloatProgressModel",
      "_view_count": null,
      "_view_module": "@jupyter-widgets/controls",
      "_view_module_version": "1.5.0",
      "_view_name": "ProgressView",
      "bar_style": "success",
      "description": "",
      "description_tooltip": null,
      "layout": "IPY_MODEL_710951fc4edc4ce9af69f61eb1d11052",
      "max": 106,
      "min": 0,
      "orientation": "horizontal",
      "style": "IPY_MODEL_a419c192f0d1411992e367d0bd195266",
      "value": 106
     }
    },
    "5f79fc722bce4cec8837cb203a4ee305": {
     "model_module": "@jupyter-widgets/controls",
     "model_module_version": "1.5.0",
     "model_name": "HTMLModel",
     "state": {
      "_dom_classes": [],
      "_model_module": "@jupyter-widgets/controls",
      "_model_module_version": "1.5.0",
      "_model_name": "HTMLModel",
      "_view_count": null,
      "_view_module": "@jupyter-widgets/controls",
      "_view_module_version": "1.5.0",
      "_view_name": "HTMLView",
      "description": "",
      "description_tooltip": null,
      "layout": "IPY_MODEL_163fbfae66d94df4ad7a2de568c4cde0",
      "placeholder": "​",
      "style": "IPY_MODEL_6e14d8d830d044779fa28087f806d57d",
      "value": "100%"
     }
    },
    "6c1f7a79fab043dabde9ab405d0fde79": {
     "model_module": "@jupyter-widgets/controls",
     "model_module_version": "1.5.0",
     "model_name": "ProgressStyleModel",
     "state": {
      "_model_module": "@jupyter-widgets/controls",
      "_model_module_version": "1.5.0",
      "_model_name": "ProgressStyleModel",
      "_view_count": null,
      "_view_module": "@jupyter-widgets/base",
      "_view_module_version": "1.2.0",
      "_view_name": "StyleView",
      "bar_color": null,
      "description_width": ""
     }
    },
    "6e14d8d830d044779fa28087f806d57d": {
     "model_module": "@jupyter-widgets/controls",
     "model_module_version": "1.5.0",
     "model_name": "DescriptionStyleModel",
     "state": {
      "_model_module": "@jupyter-widgets/controls",
      "_model_module_version": "1.5.0",
      "_model_name": "DescriptionStyleModel",
      "_view_count": null,
      "_view_module": "@jupyter-widgets/base",
      "_view_module_version": "1.2.0",
      "_view_name": "StyleView",
      "description_width": ""
     }
    },
    "710951fc4edc4ce9af69f61eb1d11052": {
     "model_module": "@jupyter-widgets/base",
     "model_module_version": "1.2.0",
     "model_name": "LayoutModel",
     "state": {
      "_model_module": "@jupyter-widgets/base",
      "_model_module_version": "1.2.0",
      "_model_name": "LayoutModel",
      "_view_count": null,
      "_view_module": "@jupyter-widgets/base",
      "_view_module_version": "1.2.0",
      "_view_name": "LayoutView",
      "align_content": null,
      "align_items": null,
      "align_self": null,
      "border": null,
      "bottom": null,
      "display": null,
      "flex": null,
      "flex_flow": null,
      "grid_area": null,
      "grid_auto_columns": null,
      "grid_auto_flow": null,
      "grid_auto_rows": null,
      "grid_column": null,
      "grid_gap": null,
      "grid_row": null,
      "grid_template_areas": null,
      "grid_template_columns": null,
      "grid_template_rows": null,
      "height": null,
      "justify_content": null,
      "justify_items": null,
      "left": null,
      "margin": null,
      "max_height": null,
      "max_width": null,
      "min_height": null,
      "min_width": null,
      "object_fit": null,
      "object_position": null,
      "order": null,
      "overflow": null,
      "overflow_x": null,
      "overflow_y": null,
      "padding": null,
      "right": null,
      "top": null,
      "visibility": null,
      "width": null
     }
    },
    "77863df5a5744c208627b7c9559adfc2": {
     "model_module": "@jupyter-widgets/base",
     "model_module_version": "1.2.0",
     "model_name": "LayoutModel",
     "state": {
      "_model_module": "@jupyter-widgets/base",
      "_model_module_version": "1.2.0",
      "_model_name": "LayoutModel",
      "_view_count": null,
      "_view_module": "@jupyter-widgets/base",
      "_view_module_version": "1.2.0",
      "_view_name": "LayoutView",
      "align_content": null,
      "align_items": null,
      "align_self": null,
      "border": null,
      "bottom": null,
      "display": null,
      "flex": null,
      "flex_flow": null,
      "grid_area": null,
      "grid_auto_columns": null,
      "grid_auto_flow": null,
      "grid_auto_rows": null,
      "grid_column": null,
      "grid_gap": null,
      "grid_row": null,
      "grid_template_areas": null,
      "grid_template_columns": null,
      "grid_template_rows": null,
      "height": null,
      "justify_content": null,
      "justify_items": null,
      "left": null,
      "margin": null,
      "max_height": null,
      "max_width": null,
      "min_height": null,
      "min_width": null,
      "object_fit": null,
      "object_position": null,
      "order": null,
      "overflow": null,
      "overflow_x": null,
      "overflow_y": null,
      "padding": null,
      "right": null,
      "top": null,
      "visibility": null,
      "width": null
     }
    },
    "8228c3fa1e30484bacfd6f0089398dbd": {
     "model_module": "@jupyter-widgets/controls",
     "model_module_version": "1.5.0",
     "model_name": "DescriptionStyleModel",
     "state": {
      "_model_module": "@jupyter-widgets/controls",
      "_model_module_version": "1.5.0",
      "_model_name": "DescriptionStyleModel",
      "_view_count": null,
      "_view_module": "@jupyter-widgets/base",
      "_view_module_version": "1.2.0",
      "_view_name": "StyleView",
      "description_width": ""
     }
    },
    "82717368f5d3470c853b58ee773b1d91": {
     "model_module": "@jupyter-widgets/controls",
     "model_module_version": "1.5.0",
     "model_name": "HBoxModel",
     "state": {
      "_dom_classes": [],
      "_model_module": "@jupyter-widgets/controls",
      "_model_module_version": "1.5.0",
      "_model_name": "HBoxModel",
      "_view_count": null,
      "_view_module": "@jupyter-widgets/controls",
      "_view_module_version": "1.5.0",
      "_view_name": "HBoxView",
      "box_style": "",
      "children": [
       "IPY_MODEL_5f79fc722bce4cec8837cb203a4ee305",
       "IPY_MODEL_999a431a8e554ad59a9011f986bfbb0a",
       "IPY_MODEL_ecc6cb2e9a5b46b8b39ea02b7fe688c0"
      ],
      "layout": "IPY_MODEL_f8ab7080473e43678084d9eb632885e6"
     }
    },
    "89ad9cff22464465b55bb65b4a099a93": {
     "model_module": "@jupyter-widgets/base",
     "model_module_version": "1.2.0",
     "model_name": "LayoutModel",
     "state": {
      "_model_module": "@jupyter-widgets/base",
      "_model_module_version": "1.2.0",
      "_model_name": "LayoutModel",
      "_view_count": null,
      "_view_module": "@jupyter-widgets/base",
      "_view_module_version": "1.2.0",
      "_view_name": "LayoutView",
      "align_content": null,
      "align_items": null,
      "align_self": null,
      "border": null,
      "bottom": null,
      "display": null,
      "flex": null,
      "flex_flow": null,
      "grid_area": null,
      "grid_auto_columns": null,
      "grid_auto_flow": null,
      "grid_auto_rows": null,
      "grid_column": null,
      "grid_gap": null,
      "grid_row": null,
      "grid_template_areas": null,
      "grid_template_columns": null,
      "grid_template_rows": null,
      "height": null,
      "justify_content": null,
      "justify_items": null,
      "left": null,
      "margin": null,
      "max_height": null,
      "max_width": null,
      "min_height": null,
      "min_width": null,
      "object_fit": null,
      "object_position": null,
      "order": null,
      "overflow": null,
      "overflow_x": null,
      "overflow_y": null,
      "padding": null,
      "right": null,
      "top": null,
      "visibility": null,
      "width": null
     }
    },
    "949c43e4116c442fb4dacad7e4f02b0f": {
     "model_module": "@jupyter-widgets/base",
     "model_module_version": "1.2.0",
     "model_name": "LayoutModel",
     "state": {
      "_model_module": "@jupyter-widgets/base",
      "_model_module_version": "1.2.0",
      "_model_name": "LayoutModel",
      "_view_count": null,
      "_view_module": "@jupyter-widgets/base",
      "_view_module_version": "1.2.0",
      "_view_name": "LayoutView",
      "align_content": null,
      "align_items": null,
      "align_self": null,
      "border": null,
      "bottom": null,
      "display": null,
      "flex": null,
      "flex_flow": null,
      "grid_area": null,
      "grid_auto_columns": null,
      "grid_auto_flow": null,
      "grid_auto_rows": null,
      "grid_column": null,
      "grid_gap": null,
      "grid_row": null,
      "grid_template_areas": null,
      "grid_template_columns": null,
      "grid_template_rows": null,
      "height": null,
      "justify_content": null,
      "justify_items": null,
      "left": null,
      "margin": null,
      "max_height": null,
      "max_width": null,
      "min_height": null,
      "min_width": null,
      "object_fit": null,
      "object_position": null,
      "order": null,
      "overflow": null,
      "overflow_x": null,
      "overflow_y": null,
      "padding": null,
      "right": null,
      "top": null,
      "visibility": null,
      "width": null
     }
    },
    "999a431a8e554ad59a9011f986bfbb0a": {
     "model_module": "@jupyter-widgets/controls",
     "model_module_version": "1.5.0",
     "model_name": "FloatProgressModel",
     "state": {
      "_dom_classes": [],
      "_model_module": "@jupyter-widgets/controls",
      "_model_module_version": "1.5.0",
      "_model_name": "FloatProgressModel",
      "_view_count": null,
      "_view_module": "@jupyter-widgets/controls",
      "_view_module_version": "1.5.0",
      "_view_name": "ProgressView",
      "bar_style": "success",
      "description": "",
      "description_tooltip": null,
      "layout": "IPY_MODEL_949c43e4116c442fb4dacad7e4f02b0f",
      "max": 106,
      "min": 0,
      "orientation": "horizontal",
      "style": "IPY_MODEL_6c1f7a79fab043dabde9ab405d0fde79",
      "value": 106
     }
    },
    "a419c192f0d1411992e367d0bd195266": {
     "model_module": "@jupyter-widgets/controls",
     "model_module_version": "1.5.0",
     "model_name": "ProgressStyleModel",
     "state": {
      "_model_module": "@jupyter-widgets/controls",
      "_model_module_version": "1.5.0",
      "_model_name": "ProgressStyleModel",
      "_view_count": null,
      "_view_module": "@jupyter-widgets/base",
      "_view_module_version": "1.2.0",
      "_view_name": "StyleView",
      "bar_color": null,
      "description_width": ""
     }
    },
    "bdfa3eaf0ff146c8a8ca3b915efb5ee4": {
     "model_module": "@jupyter-widgets/base",
     "model_module_version": "1.2.0",
     "model_name": "LayoutModel",
     "state": {
      "_model_module": "@jupyter-widgets/base",
      "_model_module_version": "1.2.0",
      "_model_name": "LayoutModel",
      "_view_count": null,
      "_view_module": "@jupyter-widgets/base",
      "_view_module_version": "1.2.0",
      "_view_name": "LayoutView",
      "align_content": null,
      "align_items": null,
      "align_self": null,
      "border": null,
      "bottom": null,
      "display": null,
      "flex": null,
      "flex_flow": null,
      "grid_area": null,
      "grid_auto_columns": null,
      "grid_auto_flow": null,
      "grid_auto_rows": null,
      "grid_column": null,
      "grid_gap": null,
      "grid_row": null,
      "grid_template_areas": null,
      "grid_template_columns": null,
      "grid_template_rows": null,
      "height": null,
      "justify_content": null,
      "justify_items": null,
      "left": null,
      "margin": null,
      "max_height": null,
      "max_width": null,
      "min_height": null,
      "min_width": null,
      "object_fit": null,
      "object_position": null,
      "order": null,
      "overflow": null,
      "overflow_x": null,
      "overflow_y": null,
      "padding": null,
      "right": null,
      "top": null,
      "visibility": null,
      "width": null
     }
    },
    "c106cd8d061942509bfbddf6b83e8266": {
     "model_module": "@jupyter-widgets/controls",
     "model_module_version": "1.5.0",
     "model_name": "DescriptionStyleModel",
     "state": {
      "_model_module": "@jupyter-widgets/controls",
      "_model_module_version": "1.5.0",
      "_model_name": "DescriptionStyleModel",
      "_view_count": null,
      "_view_module": "@jupyter-widgets/base",
      "_view_module_version": "1.2.0",
      "_view_name": "StyleView",
      "description_width": ""
     }
    },
    "ebd6845e0ea446e39872ff63aa379c04": {
     "model_module": "@jupyter-widgets/controls",
     "model_module_version": "1.5.0",
     "model_name": "HTMLModel",
     "state": {
      "_dom_classes": [],
      "_model_module": "@jupyter-widgets/controls",
      "_model_module_version": "1.5.0",
      "_model_name": "HTMLModel",
      "_view_count": null,
      "_view_module": "@jupyter-widgets/controls",
      "_view_module_version": "1.5.0",
      "_view_name": "HTMLView",
      "description": "",
      "description_tooltip": null,
      "layout": "IPY_MODEL_89ad9cff22464465b55bb65b4a099a93",
      "placeholder": "​",
      "style": "IPY_MODEL_36c4b6e648fc4270988d6b0359db5e6f",
      "value": " 106/106 [00:00&lt;00:00, 221.35it/s]"
     }
    },
    "ecc6cb2e9a5b46b8b39ea02b7fe688c0": {
     "model_module": "@jupyter-widgets/controls",
     "model_module_version": "1.5.0",
     "model_name": "HTMLModel",
     "state": {
      "_dom_classes": [],
      "_model_module": "@jupyter-widgets/controls",
      "_model_module_version": "1.5.0",
      "_model_name": "HTMLModel",
      "_view_count": null,
      "_view_module": "@jupyter-widgets/controls",
      "_view_module_version": "1.5.0",
      "_view_name": "HTMLView",
      "description": "",
      "description_tooltip": null,
      "layout": "IPY_MODEL_bdfa3eaf0ff146c8a8ca3b915efb5ee4",
      "placeholder": "​",
      "style": "IPY_MODEL_c106cd8d061942509bfbddf6b83e8266",
      "value": " 106/106 [00:00&lt;00:00, 281.00it/s]"
     }
    },
    "f8ab7080473e43678084d9eb632885e6": {
     "model_module": "@jupyter-widgets/base",
     "model_module_version": "1.2.0",
     "model_name": "LayoutModel",
     "state": {
      "_model_module": "@jupyter-widgets/base",
      "_model_module_version": "1.2.0",
      "_model_name": "LayoutModel",
      "_view_count": null,
      "_view_module": "@jupyter-widgets/base",
      "_view_module_version": "1.2.0",
      "_view_name": "LayoutView",
      "align_content": null,
      "align_items": null,
      "align_self": null,
      "border": null,
      "bottom": null,
      "display": null,
      "flex": null,
      "flex_flow": null,
      "grid_area": null,
      "grid_auto_columns": null,
      "grid_auto_flow": null,
      "grid_auto_rows": null,
      "grid_column": null,
      "grid_gap": null,
      "grid_row": null,
      "grid_template_areas": null,
      "grid_template_columns": null,
      "grid_template_rows": null,
      "height": null,
      "justify_content": null,
      "justify_items": null,
      "left": null,
      "margin": null,
      "max_height": null,
      "max_width": null,
      "min_height": null,
      "min_width": null,
      "object_fit": null,
      "object_position": null,
      "order": null,
      "overflow": null,
      "overflow_x": null,
      "overflow_y": null,
      "padding": null,
      "right": null,
      "top": null,
      "visibility": null,
      "width": null
     }
    }
   }
  }
 },
 "nbformat": 4,
 "nbformat_minor": 1
}
